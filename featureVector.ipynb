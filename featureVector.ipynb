{
 "cells": [
  {
   "cell_type": "code",
   "execution_count": 1,
   "metadata": {},
   "outputs": [],
   "source": [
    "from ase.io import read\n",
    "from ase.build import molecule\n",
    "from ase import Atoms\n",
    "\n",
    "structure1 = read(\"High/17_BaNiO3_mp-19241_symmetrized.cif\")"
   ]
  },
  {
   "cell_type": "code",
   "execution_count": 2,
   "metadata": {},
   "outputs": [],
   "source": [
    "structures = [structure1]\n",
    "species = set()\n",
    "for structure in structures:\n",
    "    species.update(structure.get_chemical_symbols())"
   ]
  },
  {
   "cell_type": "code",
   "execution_count": 3,
   "metadata": {},
   "outputs": [],
   "source": [
    "\n",
    "from dscribe.descriptors import SOAP\n"
   ]
  },
  {
   "cell_type": "code",
   "execution_count": 4,
   "metadata": {},
   "outputs": [
    {
     "name": "stdout",
     "output_type": "stream",
     "text": [
      "[[ 0.00276789  0.00930169  0.00033177 ...  0.00245973 -0.00150828\n",
      "   0.00092972]]\n"
     ]
    }
   ],
   "source": [
    "soap = SOAP(\n",
    "    species=species,\n",
    "    periodic=True,\n",
    "    rcut=3,\n",
    "    nmax=8,\n",
    "    lmax=8,\n",
    "    average=\"outer\",\n",
    "    sparse=False\n",
    ")\n",
    "\n",
    "feature_vectors = soap.create(structures, n_jobs=1)\n",
    "print(feature_vectors)"
   ]
  },
  {
   "cell_type": "code",
   "execution_count": 14,
   "metadata": {},
   "outputs": [
    {
     "name": "stdout",
     "output_type": "stream",
     "text": [
      "High/75_CdGeO3_mp-685935_symmetrized.cif\n",
      "High/17_BaNiO3_mp-19241_symmetrized.cif\n",
      "High/67_Ba(Si3N4)2_mp-567771_symmetrized.cif\n",
      "High/39_MnCO3_mp-690525_symmetrized.cif\n",
      "High/24_AgBiS2_mp-675977_symmetrized.cif\n",
      "High/19_ScBiO3_mp-555313_symmetrized.cif\n",
      "High/50_Na4CO4_mp-552941_symmetrized.cif\n",
      "High/86_Pr3NF6_mp-33319_symmetrized.cif\n",
      "High/33_Li4CO4_mp-550593_symmetrized.cif\n",
      "High/32_Sm2CdSe4_mp-38125_symmetrized.cif\n",
      "[[0.         0.         0.         ... 0.         0.         0.        ]\n",
      " [0.         0.         0.         ... 0.         0.         0.        ]\n",
      " [0.         0.         0.         ... 0.         0.         0.        ]\n",
      " ...\n",
      " [0.         0.         0.         ... 0.         0.         0.        ]\n",
      " [0.00479432 0.01616915 0.06111066 ... 0.         0.         0.        ]\n",
      " [0.         0.         0.         ... 0.         0.         0.        ]]\n"
     ]
    }
   ],
   "source": [
    "import os\n",
    "\n",
    "path = \"High\"\n",
    "\n",
    "strucs = []\n",
    "\n",
    "for file in os.listdir(path):\n",
    "    if \".cif\" in file:\n",
    "        print(path+ \"/\" + file)\n",
    "        struc = read(path+ \"/\" + file)\n",
    "        strucs.append(struc)\n",
    "    \n",
    "species = set()\n",
    "for structure in strucs:\n",
    "    species.update(structure.get_chemical_symbols())\n",
    "\n",
    "soap = SOAP(\n",
    "    species=species,\n",
    "    periodic=True,\n",
    "    rcut=6,\n",
    "    nmax=8,\n",
    "    lmax=8,\n",
    "    average=\"outer\",\n",
    "    sparse=False\n",
    ")\n",
    "    \n",
    "feature_vectors = soap.create(strucs, n_jobs=1)\n",
    "print(feature_vectors)\n"
   ]
  },
  {
   "cell_type": "code",
   "execution_count": 15,
   "metadata": {},
   "outputs": [],
   "source": [
    "import numpy as np\n",
    "a = np.array(feature_vectors)\n",
    "np.savetxt('feature_vectors.csv', a, delimiter=\",\")"
   ]
  },
  {
   "cell_type": "code",
   "execution_count": null,
   "metadata": {},
   "outputs": [],
   "source": []
  },
  {
   "cell_type": "code",
   "execution_count": null,
   "metadata": {},
   "outputs": [],
   "source": []
  }
 ],
 "metadata": {
  "kernelspec": {
   "display_name": "Python 3",
   "language": "python",
   "name": "python3"
  },
  "language_info": {
   "codemirror_mode": {
    "name": "ipython",
    "version": 3
   },
   "file_extension": ".py",
   "mimetype": "text/x-python",
   "name": "python",
   "nbconvert_exporter": "python",
   "pygments_lexer": "ipython3",
   "version": "3.8.5"
  }
 },
 "nbformat": 4,
 "nbformat_minor": 4
}
